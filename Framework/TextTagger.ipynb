{
 "cells": [
  {
   "cell_type": "code",
   "execution_count": 2,
   "metadata": {},
   "outputs": [],
   "source": [
    "from nltk.corpus import brown \n",
    "import nltk \n",
    "from nltk.tokenize import sent_tokenize, word_tokenize"
   ]
  },
  {
   "cell_type": "code",
   "execution_count": 3,
   "metadata": {},
   "outputs": [],
   "source": [
    "class TextTagger:\n",
    "    trigram_tagger = nltk.tag.sequential.TrigramTagger\n",
    "    def __init__(self, fileName):\n",
    "        patterns = \"\"\n",
    "        sent_tagged = []\n",
    "        patterns = [\n",
    "            (r'meng[aiueokghx].+$', 'VB'),\n",
    "            (r'mem[bpf]([a-df-z][a-qs-z]|er).+$', 'VB'),\n",
    "            (r'me[lnryw](a-df-z).+$', 'VB'),\n",
    "            (r'men[dtcjys].+$', 'VB'),\n",
    "            (r'di.+(kan|i)$', 'VB'),\n",
    "            (r'per.+(kan|i|.)$', 'VB'),\n",
    "            (r'ber.+(kan|an|.)$', 'VB'),\n",
    "            (r'ter.+(kan|i|.)$', 'VB'),\n",
    "            (r'(meng|me|mem|men).+(kan|i)$', 'VB'),\n",
    "            (r'ke.+(i|an)$', 'VB'),\n",
    "            (r'se(baik|benar|tidak|layak|lekas|sungguh|yogya|belum|pantas|balik|lanjut)(nya)$', 'RB'),\n",
    "            (r'(sekadar|amat|bahkan|cukup|jua|justru|kembali|kurang|malah|mau|nian|niscaya|pasti|patut|perlu|lagi|pernah|pun|sekali|selalu|senantiasa|sering|sungguh|tentu|terus|lebih|hampir|jarang|juga|kerap|makin|memang|nyaris|paling|pula|saja|saling|sangat|segera|semakin|serba|entah|hanya|kadangkala|)$', 'RB'),\n",
    "            (r'(akan|antara|bagi|buat|dari|dengan|di|ke|kecuali|lepas|oleh|pada|per|peri|seperti|tanpa|tentang|untuk)$', 'IN'),\n",
    "            (r'(dan|serta|atau|tetapi|melainkan|padahal|sedangkan)$','CC'),\n",
    "            (r'(sejak|semenjak|sedari|sewaktu|ketika|tatkala|sementara|begitu|seraya|selagi|selama|serta|sambil|demi|setelah|sesudah|sebelum|sehabis|selesai|seusai|hingga|sampai|jika|kalau|jikalau|asal)$','SC'),\n",
    "            (r'(alam|abad|insan|hewan)(i)$','JJ'),\n",
    "            (r'(dunia|manusia|gereja|raga|surga)(wi)$','JJ'),\n",
    "            (r'(alam|insan|amal)(iah)$','JJ'),\n",
    "            (r'(normal|struktural|praktis|teknis|aktif|agresif|(komplemen|parlemen)(ter))$','JJ'), #gatau bisa apa kaga \\n\",\n",
    "            (r'((adi)(kodrati|busana|kuasa|luhung)|anasional|(antar)(bangsa|kota|perang)|asusila|awahama|diatonik|dispositif|dursila|ekstrakuriluler|hiperkorek|inframerah|internasional|(maha)(besar|kuasa|mulia|suci|tahu)|multinasional|(nir)(aksara|gelar)|panteistis|paranormal|(pasca)(jual|lahir)|prokomunis|purnawaktu|semipermanen|serbaguna|subtropis|superberat|swasembada|(tak)(organik|sosial)|(trans)(-Sumatra|kontinental)|(tuna)(karya|netra)|(ultra)(kanan|modern))$', 'JJ'),\n",
    "            (r'((pe)(lupa|malas|malu|marah)$','JJ'),\n",
    "            (r'((siapa|apa|mengapa|bagaimana|kenapa|apa|berapa|dimana|kapan|seseorang|sesuatu)$','PRP'), #kata tanya\n",
    "            (r'(aku|saya|hamba|kami|kita|engkau|kamu|kalian|Anda|dikau|kau|dia|beliau|mereka)$','PRP'),\n",
    "            (r'(senin|selasa|rabu|kamis|jumat|sabtu|minggu|januari|februari|maret|april|mei|juni|juli|agustus|september|oktober|november|desember)$','NNP'),\n",
    "            (r'(para|sang|si)$','DT'),\n",
    "            (r'(bukan|belum|jangan|tidak|tak)$','NEG'),\n",
    "            (r'(harus|ingin|mau|sudah|telah|mungkin|pernah)$','MD')\n",
    "        ]\n",
    "        for f in fileName:\n",
    "            print \"Learning >> \" + f\n",
    "            file = open(f, \"r\") \n",
    "            sent = file.read()\n",
    "            data_sents = [nltk.tag.str2tuple(t) for t in sent.split()]\n",
    "            temp_sent = []\n",
    "            stop_word = [\".\",\"!\",\"?\"]\n",
    "            for data in data_sents:\n",
    "                temp_sent.append(data)\n",
    "                if data[0] in stop_word:\n",
    "                    sent_tagged.append(temp_sent)\n",
    "                    temp_sent = []\n",
    "                \n",
    "        default_tagger = nltk.DefaultTagger('NN')\n",
    "        regexp_tagger = nltk.RegexpTagger(patterns, backoff= default_tagger)\n",
    "        unigram_tagger = nltk.UnigramTagger(sent_tagged, backoff=regexp_tagger)\n",
    "        bigram_tagger = nltk.BigramTagger(sent_tagged, backoff=unigram_tagger)\n",
    "        self.trigram_tagger = nltk.TrigramTagger(sent_tagged, backoff=bigram_tagger)\n",
    "\n",
    "    def getTagger(self,text):\n",
    "        word_tokenize_list = word_tokenize(text)\n",
    "        return self.trigram_tagger.tag(word_tokenize_list)"
   ]
  },
  {
   "cell_type": "code",
   "execution_count": null,
   "metadata": {},
   "outputs": [],
   "source": []
  }
 ],
 "metadata": {
  "kernelspec": {
   "display_name": "Python 2",
   "language": "python",
   "name": "python2"
  },
  "language_info": {
   "codemirror_mode": {
    "name": "ipython",
    "version": 2
   },
   "file_extension": ".py",
   "mimetype": "text/x-python",
   "name": "python",
   "nbconvert_exporter": "python",
   "pygments_lexer": "ipython2",
   "version": "2.7.15"
  }
 },
 "nbformat": 4,
 "nbformat_minor": 2
}
