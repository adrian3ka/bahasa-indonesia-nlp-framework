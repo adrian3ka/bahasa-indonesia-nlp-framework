{
 "cells": [
  {
   "cell_type": "code",
   "execution_count": 1,
   "metadata": {},
   "outputs": [],
   "source": [
    "import nltk, re, pprint"
   ]
  },
  {
   "cell_type": "code",
   "execution_count": null,
   "metadata": {},
   "outputs": [],
   "source": [
    "class IndonesiaChunker:\n",
    "    grammar = \"\"\"\n",
    "        NP: {<NN|NNP>+<CC><NN|NNP|NNG>+}\n",
    "        NP: {<PRP><CC><NN|NNP|NNG>}\n",
    "        NP: {<NN|NNP><CC><PRP>}\n",
    "        NP: {<NN>+<CDO>}\n",
    "        NP: {<NN>+<JJ>}\n",
    "        NP: {<NN>+<DT>}\n",
    "        NP: {<NN>+<PRP>}\n",
    "        NP: {<NN>+<NNP>+}\n",
    "        NP: {<NNP>+<NN>+}\n",
    "        NP: {<CDI|CDP><NN>+<CDI|CDP>*}\n",
    "        NP: {<CDI|CDP>*<NN>+<CDI|CDP>}\n",
    "        NP: {<NN>+}\n",
    "        NP: {<NNP>+}\n",
    "        NP: {<NNG>}\n",
    "        NP: {<FW>+}\n",
    "        NP: {<NP><NP>+}\n",
    "        NP: {<PRP>}\n",
    "        NP: {<NP><CDO>}\n",
    "        NP: {<NP><JJ>}\n",
    "        NP: {<NP><DT>}\n",
    "        NP: {<CDI|CDP><NP>}\n",
    "        NP: {<NP><CC><NP>}\n",
    "        PP: {<IN><NP>}\n",
    "        PP: {<IN><NN|NNP|NNG>}\n",
    "        PP: {<IN><CDP>}\n",
    "        ADVP: {<IN><JJ>}\n",
    "        ADJP: {<JJ><CC><JJ>}\n",
    "        ADJP: {<JJ><RB>}\n",
    "        ADJP: {<RB><JJ>}\n",
    "        ADJP: {<JJ>+}\n",
    "        ADVP: {<RB>}\n",
    "        NP: {<NP><ADJP>}\n",
    "        VP: {<NEG>*<VBI><CC><VBI>}\n",
    "        VP: {<NEG>*<VBT><CC><VBT>}\n",
    "        VP: {<NEG>*<VBI|VBT>}\n",
    "        VP: {<NEG>*<VP><NP><PP>}\n",
    "        VP: {<NEG>*<VP><PP>+}\n",
    "        VP: {<NEG>*<VP><NP>}\n",
    "        VP: {<NEG>*<MD><VP>}\n",
    "        VP: {<NEG>*<VP><IN>*<ADJP>}\n",
    "        VP: {<NEG>*<ADJP><VP>}\n",
    "        VP: {<NEG>*<VP><ADVP>}\n",
    "        VP: {<NEG>*<ADVP><VP>}\n",
    "        PP: {<IN><VP>}\n",
    "        PP: {<IN><VBI|VBT>}\n",
    "    \"\"\"\n",
    "    def __init__(self):\n",
    "        print \"Indonesia Chunker Created\"\n",
    "    def stdChunker(self, sentence):\n",
    "        cp = nltk.RegexpParser(self.grammar)\n",
    "        result = cp.parse(sentence)\n",
    "        return result"
   ]
  }
 ],
 "metadata": {
  "kernelspec": {
   "display_name": "Python 2",
   "language": "python",
   "name": "python2"
  },
  "language_info": {
   "codemirror_mode": {
    "name": "ipython",
    "version": 2
   },
   "file_extension": ".py",
   "mimetype": "text/x-python",
   "name": "python",
   "nbconvert_exporter": "python",
   "pygments_lexer": "ipython2",
   "version": "2.7.15"
  }
 },
 "nbformat": 4,
 "nbformat_minor": 2
}
