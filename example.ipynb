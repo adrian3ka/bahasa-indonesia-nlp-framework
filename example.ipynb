{
 "cells": [
  {
   "cell_type": "code",
   "execution_count": 1,
   "metadata": {},
   "outputs": [],
   "source": [
    "%run Framework/TextTagger.py\n",
    "%run Framework/IndonesiaChunker.py"
   ]
  },
  {
   "cell_type": "code",
   "execution_count": 2,
   "metadata": {},
   "outputs": [
    {
     "name": "stdout",
     "output_type": "stream",
     "text": [
      "Learning >> UI-1M-tagged.txt\n",
      "Indonesia Chunker Created\n"
     ]
    }
   ],
   "source": [
    "p = TextTagger([\"UI-1M-tagged.txt\"])\n",
    "c = IndonesiaChunker()"
   ]
  },
  {
   "cell_type": "code",
   "execution_count": 3,
   "metadata": {},
   "outputs": [
    {
     "data": {
      "image/png": "[encoded data removed]",
      "text/plain": [
       "Tree('S', [Tree('NP', [('Saya', 'PRP')]), Tree('VP', [('mau', 'VBI')]), ('makan', 'NNU'), Tree('NP', [('nasi', 'NN'), ('merah', 'NN')]), ('.', '.')])"
      ]
     },
     "execution_count": 3,
     "metadata": {},
     "output_type": "execute_result"
    }
   ],
   "source": [
    "wt = p.getTagger(\"Saya mau makan nasi merah.\")\n",
    "c.stdChunker(wt)"
   ]
  },
  {
   "cell_type": "code",
   "execution_count": null,
   "metadata": {},
   "outputs": [],
   "source": []
  }
 ],
 "metadata": {
  "kernelspec": {
   "display_name": "Python 2",
   "language": "python",
   "name": "python2"
  },
  "language_info": {
   "codemirror_mode": {
    "name": "ipython",
    "version": 2
   },
   "file_extension": ".py",
   "mimetype": "text/x-python",
   "name": "python",
   "nbconvert_exporter": "python",
   "pygments_lexer": "ipython2",
   "version": "2.7.15"
  }
 },
 "nbformat": 4,
 "nbformat_minor": 2
}
